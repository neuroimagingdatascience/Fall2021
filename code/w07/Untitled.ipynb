{
 "cells": [
  {
   "cell_type": "code",
   "execution_count": null,
   "id": "b0b3ca6d",
   "metadata": {},
   "outputs": [],
   "source": [
    "import brainspace \n",
    "from brainspace.datasets import load_conte69\n",
    "\n",
    "# Load left and right hemispheres\n",
    "\n",
    "surf_lh, surf_rh = load_conte69()\n",
    "surf_lh.n_points\n",
    "surf_rh.n_points"
   ]
  },
  {
   "cell_type": "code",
   "execution_count": null,
   "id": "044bbb2f",
   "metadata": {},
   "outputs": [],
   "source": [
    "from brainspace.plotting import plot_hemispheres\n",
    "plot_hemispheres(surf_lh, surf_rh, size=(800, 200))"
   ]
  },
  {
   "cell_type": "code",
   "execution_count": null,
   "id": "46e1c40c",
   "metadata": {},
   "outputs": [],
   "source": []
  }
 ],
 "metadata": {
  "kernelspec": {
   "display_name": "Python 3",
   "language": "python",
   "name": "python3"
  },
  "language_info": {
   "codemirror_mode": {
    "name": "ipython",
    "version": 3
   },
   "file_extension": ".py",
   "mimetype": "text/x-python",
   "name": "python",
   "nbconvert_exporter": "python",
   "pygments_lexer": "ipython3",
   "version": "3.8.8"
  }
 },
 "nbformat": 4,
 "nbformat_minor": 5
}
