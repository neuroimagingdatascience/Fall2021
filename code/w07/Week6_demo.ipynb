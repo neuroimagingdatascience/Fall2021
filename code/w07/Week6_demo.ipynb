{
 "cells": [
  {
   "cell_type": "markdown",
   "metadata": {},
   "source": [
    "## Import libraries"
   ]
  },
  {
   "cell_type": "code",
   "execution_count": 2,
   "metadata": {},
   "outputs": [],
   "source": [
    "import matplotlib.pyplot as plt\n",
    "import matplotlib.gridspec as gridspec\n",
    "import itertools\n",
    "import numpy as np\n",
    "\n",
    "from sklearn import datasets\n",
    "from sklearn.metrics import accuracy_score, mean_absolute_error\n",
    "from sklearn.linear_model import Lasso, LinearRegression, LassoCV\n",
    "from sklearn.svm import SVC\n",
    "from sklearn.model_selection import cross_val_score, train_test_split, GridSearchCV, KFold\n",
    "\n",
    "# pip install mlxtend\n",
    "from mlxtend.plotting import plot_decision_regions"
   ]
  },
  {
   "cell_type": "markdown",
   "metadata": {},
   "source": [
    "## Linear models"
   ]
  },
  {
   "cell_type": "markdown",
   "metadata": {},
   "source": [
    "### Load data"
   ]
  },
  {
   "cell_type": "code",
   "execution_count": 3,
   "metadata": {},
   "outputs": [
    {
     "name": "stdout",
     "output_type": "stream",
     "text": [
      "(150, 10) (150,)\n"
     ]
    }
   ],
   "source": [
    "diabetes = datasets.load_diabetes()\n",
    "X = diabetes.data[:150]\n",
    "y = diabetes.target[:150]\n",
    "\n",
    "print(X.shape, y.shape)"
   ]
  },
  {
   "cell_type": "markdown",
   "metadata": {},
   "source": [
    "### Settings"
   ]
  },
  {
   "cell_type": "code",
   "execution_count": 4,
   "metadata": {},
   "outputs": [
    {
     "name": "stdout",
     "output_type": "stream",
     "text": [
      "Number of lambdas: 30 [0.0001, 0.3162]\n"
     ]
    }
   ],
   "source": [
    "# Metric: Mean Absolute Error\n",
    "scoring= 'neg_mean_absolute_error'\n",
    "\n",
    "# CV: 3-fold\n",
    "kf = KFold(3)\n",
    "\n",
    "# Create linear regressor\n",
    "linreg = LinearRegression()\n",
    "\n",
    "# Create lasso regressor\n",
    "lasso = Lasso(alpha=0.5, random_state=0, max_iter=10000)\n",
    "\n",
    "# Try different lambdas (regularization )\n",
    "lambdas = np.logspace(-4, -0.5, 30)\n",
    "\n",
    "print('Number of lambdas: {0} [{1:.4}, {2:.4}]'.format(lambdas.size, lambdas.min(), lambdas.max()))"
   ]
  },
  {
   "cell_type": "markdown",
   "metadata": {},
   "source": [
    "### Learning"
   ]
  },
  {
   "cell_type": "code",
   "execution_count": 6,
   "metadata": {},
   "outputs": [],
   "source": [
    "# Fit Linear regression\n",
    "linreg_scores_cv = cross_val_score(linreg, X, y, scoring=scoring, cv=kf)\n",
    "linreg_score = -linreg_scores_cv.mean()\n",
    "\n",
    "# Fit Lasso\n",
    "clf = GridSearchCV(lasso, {'alpha': lambdas}, cv=kf, refit=True, scoring=scoring).fit(X, y)\n",
    "lasso_scores = -clf.cv_results_['mean_test_score']"
   ]
  },
  {
   "cell_type": "markdown",
   "metadata": {},
   "source": [
    "### Plot scores"
   ]
  },
  {
   "cell_type": "code",
   "execution_count": 7,
   "metadata": {},
   "outputs": [
    {
     "data": {
      "image/png": "[encoded data removed]",
      "text/plain": [
       "<Figure size 576x432 with 1 Axes>"
      ]
     },
     "metadata": {
      "needs_background": "light"
     },
     "output_type": "display_data"
    }
   ],
   "source": [
    "plt.figure().set_size_inches(8, 6)\n",
    "\n",
    "# Plot LR\n",
    "plt.axhline(linreg_score, linestyle='--', color='.5')\n",
    "\n",
    "# Plot Lasso\n",
    "plt.semilogx(lambdas, lasso_scores)\n",
    "\n",
    "plt.xlim([lambdas[0], lambdas[-1]])\n",
    "plt.ylabel('Average MAE')\n",
    "plt.xlabel('$\\lambda$')\n",
    "plt.legend(['Linear Reg', 'Lasso'], loc='upper left')\n",
    "plt.show()"
   ]
  },
  {
   "cell_type": "code",
   "execution_count": 7,
   "metadata": {},
   "outputs": [
    {
     "name": "stdout",
     "output_type": "stream",
     "text": [
      "Best lambda: 0.0597\n"
     ]
    }
   ],
   "source": [
    "print('Best lambda: {0:.3}'.format(lambdas[np.argmin(lasso_scores)]))"
   ]
  },
  {
   "cell_type": "code",
   "execution_count": 8,
   "metadata": {},
   "outputs": [
    {
     "name": "stdout",
     "output_type": "stream",
     "text": [
      "Selected features: 8/10\n"
     ]
    }
   ],
   "source": [
    "coefs = clf.best_estimator_.coef_\n",
    "print('Selected features: {0}/{1}'.format(np.count_nonzero(coefs), coefs.size))"
   ]
  },
  {
   "cell_type": "code",
   "execution_count": 9,
   "metadata": {},
   "outputs": [
    {
     "name": "stdout",
     "output_type": "stream",
     "text": [
      "What about generalization? How good is this lambda?\n"
     ]
    }
   ],
   "source": [
    "print('What about generalization? How good is this lambda?')"
   ]
  },
  {
   "cell_type": "markdown",
   "metadata": {},
   "source": [
    "## Nested vs non-nested CV"
   ]
  },
  {
   "cell_type": "markdown",
   "metadata": {},
   "source": [
    "### Lasso with inner CV for lambda selection (Train-Validation splits)"
   ]
  },
  {
   "cell_type": "code",
   "execution_count": 9,
   "metadata": {},
   "outputs": [
    {
     "data": {
      "text/plain": [
       "LassoCV(alphas=array([1.00000000e-04, 1.32035178e-04, 1.74332882e-04, 2.30180731e-04,\n",
       "       3.03919538e-04, 4.01280703e-04, 5.29831691e-04, 6.99564216e-04,\n",
       "       9.23670857e-04, 1.21957046e-03, 1.61026203e-03, 2.12611233e-03,\n",
       "       2.80721620e-03, 3.70651291e-03, 4.89390092e-03, 6.46167079e-03,\n",
       "       8.53167852e-03, 1.12648169e-02, 1.48735211e-02, 1.96382800e-02,\n",
       "       2.59294380e-02, 3.42359796e-02, 4.52035366e-02, 5.96845700e-02,\n",
       "       7.88046282e-02, 1.04049831e-01, 1.37382380e-01, 1.81393069e-01,\n",
       "       2.39502662e-01, 3.16227766e-01]),\n",
       "        cv=KFold(n_splits=3, random_state=None, shuffle=False), max_iter=10000,\n",
       "        random_state=0)"
      ]
     },
     "execution_count": 9,
     "metadata": {},
     "output_type": "execute_result"
    }
   ],
   "source": [
    "inner_kf = KFold(3)\n",
    "clf = LassoCV(alphas=lambdas, cv=inner_kf, random_state=0, max_iter=10000)\n",
    "clf"
   ]
  },
  {
   "cell_type": "markdown",
   "metadata": {},
   "source": [
    "### Outer CV (Test data)"
   ]
  },
  {
   "cell_type": "code",
   "execution_count": 11,
   "metadata": {},
   "outputs": [
    {
     "name": "stdout",
     "output_type": "stream",
     "text": [
      "[fold 0] best lambda: 0.10405  --  MAE on test: 40.51337\n",
      "[fold 1] best lambda: 0.05968  --  MAE on test: 52.21112\n",
      "[fold 2] best lambda: 0.10405  --  MAE on test: 39.08356\n",
      "[fold 3] best lambda: 0.10405  --  MAE on test: 52.33008\n",
      "[fold 4] best lambda: 0.18139  --  MAE on test: 45.27109\n"
     ]
    }
   ],
   "source": [
    "outter_kf = KFold(5)\n",
    "for k, (train, test) in enumerate(outter_kf.split(X, y)):\n",
    "    X_train, X_test = X[train], X[test]\n",
    "    y_train, y_test = y[train], y[test]\n",
    "    \n",
    "    clf.fit(X_train, y_train)\n",
    "    y_pred = clf.predict(X_test)\n",
    "    \n",
    "    mae = mean_absolute_error(y_test, y_pred)\n",
    "    \n",
    "    print('[fold {0}] best lambda: {1:.5f}  --  MAE on test: {2:.5f}'. format(k, clf.alpha_, mae))"
   ]
  },
  {
   "cell_type": "code",
   "execution_count": null,
   "metadata": {},
   "outputs": [],
   "source": []
  },
  {
   "cell_type": "markdown",
   "metadata": {},
   "source": [
    "## Linear vs Non-linear SVM"
   ]
  },
  {
   "cell_type": "markdown",
   "metadata": {},
   "source": [
    "### Create XOR data"
   ]
  },
  {
   "cell_type": "code",
   "execution_count": 12,
   "metadata": {},
   "outputs": [
    {
     "name": "stdout",
     "output_type": "stream",
     "text": [
      "(100, 2) (100,)\n"
     ]
    }
   ],
   "source": [
    "xx, yy = np.meshgrid(np.linspace(-3, 3, 50), np.linspace(-3, 3, 50))\n",
    "rng = np.random.RandomState(0)\n",
    "X = rng.randn(100, 2)\n",
    "y = np.array(np.logical_xor(X[:, 0] > 0, X[:, 1] > 0), dtype=int)\n",
    "\n",
    "print(X.shape, y.shape)"
   ]
  },
  {
   "cell_type": "markdown",
   "metadata": {},
   "source": [
    "### Stratified split: 70% train, 30% test"
   ]
  },
  {
   "cell_type": "code",
   "execution_count": 13,
   "metadata": {},
   "outputs": [
    {
     "name": "stdout",
     "output_type": "stream",
     "text": [
      "(70, 2) (30, 2)\n"
     ]
    }
   ],
   "source": [
    "X_train, X_test, y_train, y_test = train_test_split(X, y, test_size=30, random_state=23, stratify=y)\n",
    "\n",
    "print(X_train.shape, X_test.shape)"
   ]
  },
  {
   "cell_type": "code",
   "execution_count": 19,
   "metadata": {},
   "outputs": [
    {
     "data": {
      "text/plain": [
       "<matplotlib.collections.PathCollection at 0x7f8308c90760>"
      ]
     },
     "execution_count": 19,
     "metadata": {},
     "output_type": "execute_result"
    },
    {
     "data": {
      "image/png": "[encoded data removed]",
      "text/plain": [
       "<Figure size 432x288 with 1 Axes>"
      ]
     },
     "metadata": {
      "needs_background": "light"
     },
     "output_type": "display_data"
    }
   ],
   "source": [
    "plt.scatter(X_train[y_train==1, 0], X_train[y_train==1, 1])\n",
    "plt.scatter(X_train[y_train==0, 0], X_train[y_train==0, 1])"
   ]
  },
  {
   "cell_type": "markdown",
   "metadata": {},
   "source": [
    "### Create SVM classifiers and fit to train"
   ]
  },
  {
   "cell_type": "code",
   "execution_count": 14,
   "metadata": {},
   "outputs": [],
   "source": [
    "clfs = {'Linear': SVC(kernel='linear', gamma='scale'), \n",
    "        'Poly[2]': SVC(kernel='poly', degree=2, gamma='scale'),\n",
    "        'Sigmoid': SVC(kernel='sigmoid', gamma='scale'),\n",
    "        'RBF': SVC(kernel='rbf', gamma='scale')}\n",
    "\n",
    "# Fit to train\n",
    "for i, (kernel, clf) in enumerate(clfs.items()):\n",
    "    clf.fit(X_train, y_train)"
   ]
  },
  {
   "cell_type": "markdown",
   "metadata": {},
   "source": [
    "### Plot boundaries"
   ]
  },
  {
   "cell_type": "code",
   "execution_count": 17,
   "metadata": {},
   "outputs": [
    {
     "data": {
      "image/png": "[encoded data removed]",
      "text/plain": [
       "<Figure size 720x576 with 4 Axes>"
      ]
     },
     "metadata": {
      "needs_background": "light"
     },
     "output_type": "display_data"
    }
   ],
   "source": [
    "gs = gridspec.GridSpec(2, 2)\n",
    "fig = plt.figure(figsize=(10,8))\n",
    "for i, (kernel, clf) in enumerate(clfs.items()):\n",
    "    ax = plt.subplot(gs[i//2, i%2])\n",
    "    fig = plot_decision_regions(X=X_train, y=y_train, clf=clf, legend=2)\n",
    "    plt.title(kernel)\n",
    "plt.show()"
   ]
  },
  {
   "cell_type": "markdown",
   "metadata": {},
   "source": [
    "### Evaluate models on hold-out data"
   ]
  },
  {
   "cell_type": "code",
   "execution_count": 20,
   "metadata": {},
   "outputs": [
    {
     "name": "stdout",
     "output_type": "stream",
     "text": [
      "SVM Linear : 0.633\n",
      "SVM Poly[2]: 0.867\n",
      "SVM Sigmoid: 0.567\n",
      "SVM RBF    : 0.967\n"
     ]
    }
   ],
   "source": [
    "for i, (kernel, clf) in enumerate(clfs.items()):\n",
    "    y_pred = clf.predict(X_test)\n",
    "    acc = accuracy_score(y_test, y_pred)\n",
    "    print('SVM {0:<7}: {1:.3f}'.format(kernel, acc))\n",
    "    "
   ]
  },
  {
   "cell_type": "code",
   "execution_count": null,
   "metadata": {},
   "outputs": [],
   "source": []
  },
  {
   "cell_type": "code",
   "execution_count": null,
   "metadata": {},
   "outputs": [],
   "source": []
  },
  {
   "cell_type": "code",
   "execution_count": null,
   "metadata": {},
   "outputs": [],
   "source": []
  }
 ],
 "metadata": {
  "kernelspec": {
   "display_name": "Python 3",
   "language": "python",
   "name": "python3"
  },
  "language_info": {
   "codemirror_mode": {
    "name": "ipython",
    "version": 3
   },
   "file_extension": ".py",
   "mimetype": "text/x-python",
   "name": "python",
   "nbconvert_exporter": "python",
   "pygments_lexer": "ipython3",
   "version": "3.8.8"
  }
 },
 "nbformat": 4,
 "nbformat_minor": 2
}
