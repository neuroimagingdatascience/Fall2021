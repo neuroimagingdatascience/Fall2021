{
 "cells": [
  {
   "cell_type": "markdown",
   "id": "fc5ae5ce",
   "metadata": {
    "slideshow": {
     "slide_type": "slide"
    }
   },
   "source": [
    "# NEUR608: Software Development\n",
    "\n",
    "Presented by Reinder Vos de Wael (29 October 2021)"
   ]
  },
  {
   "cell_type": "markdown",
   "id": "db832258",
   "metadata": {
    "slideshow": {
     "slide_type": "slide"
    }
   },
   "source": [
    "This presentation was created in a [Jupyter Notebook](https://jupyter.org/)."
   ]
  },
  {
   "cell_type": "markdown",
   "id": "e4881c6a",
   "metadata": {
    "slideshow": {
     "slide_type": "fragment"
    }
   },
   "source": [
    "What that means is that when you see a block like this, then it is executable Python3 code."
   ]
  },
  {
   "cell_type": "code",
   "execution_count": 1,
   "id": "96631419",
   "metadata": {
    "slideshow": {
     "slide_type": "-"
    }
   },
   "outputs": [
    {
     "name": "stdout",
     "output_type": "stream",
     "text": [
      "56154\n"
     ]
    }
   ],
   "source": [
    "a = 1337 * 42\n",
    "print(a)"
   ]
  },
  {
   "cell_type": "markdown",
   "id": "02b86eae",
   "metadata": {
    "slideshow": {
     "slide_type": "slide"
    }
   },
   "source": [
    "## BrainSpace: a gradient toolbox\n",
    "\n",
    "- A toolbox to compute, visualize, and statistically analyze gradients.\n",
    "\n",
    "<center><img src=\"images/gradients.png\" alt=\"W3Schools.com\" width=1000px></center>"
   ]
  },
  {
   "cell_type": "markdown",
   "id": "d7f21dcc",
   "metadata": {
    "slideshow": {
     "slide_type": "fragment"
    }
   },
   "source": [
    "<img src=\"images/gradientcode.png\" alt=\"W3Schools.com\" width=700px>"
   ]
  },
  {
   "cell_type": "markdown",
   "id": "9c337bb5",
   "metadata": {
    "slideshow": {
     "slide_type": "slide"
    }
   },
   "source": [
    "## Why do we make toolboxes?"
   ]
  },
  {
   "cell_type": "markdown",
   "id": "11a84d52",
   "metadata": {
    "slideshow": {
     "slide_type": "fragment"
    }
   },
   "source": [
    "- Simplify our own analyses.\n",
    "- Increase accesbility to complicated methodologies.\n",
    "- Standardization of methods"
   ]
  },
  {
   "cell_type": "markdown",
   "id": "0d0bc1eb-795a-4e6b-9d0f-51c5b0fb79c9",
   "metadata": {
    "slideshow": {
     "slide_type": "slide"
    },
    "tags": []
   },
   "source": [
    "# Class Outline\n",
    "\n",
    "We are going to publish our own toolbox!\n",
    "\n",
    "- Building a Python package\n",
    "- Creating a Github repository\n",
    "- Continuous Integration\n",
    "- Documentation\n",
    "- Publication"
   ]
  },
  {
   "cell_type": "markdown",
   "id": "e177fc40",
   "metadata": {
    "slideshow": {
     "slide_type": "slide"
    }
   },
   "source": [
    "<center> Software development is the art of <b>good</b> coding. </center>"
   ]
  },
  {
   "cell_type": "markdown",
   "id": "f4f1c1c8",
   "metadata": {
    "slideshow": {
     "slide_type": "slide"
    }
   },
   "source": [
    "Write code to compute the Fibonnaci prime numbers:"
   ]
  },
  {
   "cell_type": "code",
   "execution_count": 2,
   "id": "9564aea5",
   "metadata": {
    "slideshow": {
     "slide_type": "fragment"
    },
    "tags": []
   },
   "outputs": [],
   "source": [
    "import math\n",
    "\n",
    "def fibonacci_prime(max_number):\n",
    "    if max_number == 1:\n",
    "        fibonacci = [0]\n",
    "    else:\n",
    "        fibonacci = [0, 1]\n",
    "        while fibonacci[-1] + fibonacci[-2] < max_number:\n",
    "            fibonacci.append(fibonacci[-1] + fibonacci[-2])\n",
    "      \n",
    "    primes = []\n",
    "    for i in range(1, max_number):\n",
    "        is_prime = True\n",
    "        for j in range(2, int(math.sqrt(i) + 1)):\n",
    "            if i % j == 0:\n",
    "                is_prime = False\n",
    "                break\n",
    "        if is_prime:\n",
    "            primes.append(i)  \n",
    "    \n",
    "    return  \n",
    "\n",
    "fibonacci_prime(25)"
   ]
  },
  {
   "cell_type": "markdown",
   "id": "8805cf09-3d13-470b-9696-f308cd3b8b1d",
   "metadata": {
    "slideshow": {
     "slide_type": "slide"
    },
    "tags": []
   },
   "source": [
    "In a more modular fashion, we could rewrite this as follows:"
   ]
  },
  {
   "cell_type": "code",
   "execution_count": 3,
   "id": "510f22bf-8def-45ed-bf8d-ad8e367c68a7",
   "metadata": {
    "slideshow": {
     "slide_type": "fragment"
    },
    "tags": []
   },
   "outputs": [],
   "source": [
    "import math\n",
    "\n",
    "def compute_fibonacci_prime_srp(max_number):\n",
    "    fibonacci = compute_fibonacci(max_number)\n",
    "    primes = compute_primes(max_number)\n",
    "    return [x for x in primes if x in fibonacci]"
   ]
  },
  {
   "cell_type": "code",
   "execution_count": 4,
   "id": "e9c4b66d-6a91-40c1-b2fd-6e3b67a9643c",
   "metadata": {
    "slideshow": {
     "slide_type": "fragment"
    },
    "tags": []
   },
   "outputs": [],
   "source": [
    "def compute_fibonacci(max_number):\n",
    "    if max_number == 1:\n",
    "        fibonacci = [0]\n",
    "    else:\n",
    "        fibonacci = [0, 1]\n",
    "\n",
    "        while fibonacci[-1] + fibonacci[-2] < max_number:\n",
    "            fibonacci.append(fibonacci[-1] + fibonacci[-2])\n",
    "    \n",
    "    return fibonacci"
   ]
  },
  {
   "cell_type": "code",
   "execution_count": 5,
   "id": "62d3af67-ae22-45e1-8292-474486ece99a",
   "metadata": {
    "slideshow": {
     "slide_type": "fragment"
    },
    "tags": []
   },
   "outputs": [],
   "source": [
    "def compute_primes(max_number):\n",
    "    primes = []\n",
    "    for i in range(1, max_number):\n",
    "        is_prime = True\n",
    "        for j in range(2, int(math.sqrt(i)) + 1):\n",
    "            if i % j == 0:\n",
    "                is_prime = False\n",
    "        if is_prime:\n",
    "            primes.append(i)  \n",
    "    return primes"
   ]
  },
  {
   "cell_type": "code",
   "execution_count": 6,
   "id": "55807a1e-a94b-461a-b2ed-303319a7c0ea",
   "metadata": {
    "slideshow": {
     "slide_type": "subslide"
    },
    "tags": []
   },
   "outputs": [
    {
     "data": {
      "text/plain": [
       "[1, 2, 3, 5, 13]"
      ]
     },
     "execution_count": 6,
     "metadata": {},
     "output_type": "execute_result"
    }
   ],
   "source": [
    "compute_fibonacci_prime_srp(25)"
   ]
  },
  {
   "cell_type": "markdown",
   "id": "e9b18fbc",
   "metadata": {
    "slideshow": {
     "slide_type": "slide"
    }
   },
   "source": [
    "# Unit Tests  \n",
    " - Unit tests are small, fast tests that you can run to test your code.  "
   ]
  },
  {
   "cell_type": "code",
   "execution_count": 7,
   "id": "310a1263",
   "metadata": {
    "slideshow": {
     "slide_type": "fragment"
    }
   },
   "outputs": [],
   "source": [
    "def test_compute_primes():\n",
    "    primes = compute_primes(25)\n",
    "    assert primes == [1, 2, 3, 5, 7, 11, 13, 17, 19, 23]\n",
    "test_compute_primes()"
   ]
  },
  {
   "cell_type": "markdown",
   "id": "d123aca7",
   "metadata": {
    "slideshow": {
     "slide_type": "fragment"
    }
   },
   "source": [
    "- Helps find bugs.\n",
    "    - Saves time!\n",
    "- Reduces code complexity.\n",
    "    - Makes code more reusable and reliable.\n",
    "- Provides documentation.\n",
    "- Where relevant, can be used to measure performance."
   ]
  },
  {
   "cell_type": "markdown",
   "id": "dcf8e84f",
   "metadata": {
    "slideshow": {
     "slide_type": "-"
    }
   },
   "source": [
    "In Python the packages `unittest` and `pytest` can be used to simplify unit tests. In MATLAB, `matlab.unitTest.testCase` fulfills the same role."
   ]
  },
  {
   "cell_type": "markdown",
   "id": "7257b2c9",
   "metadata": {
    "slideshow": {
     "slide_type": "slide"
    }
   },
   "source": [
    "## GitHub\n",
    "\n",
    "- GitHub is an online hub for Git repositories. \n",
    "  - Provides a GUI for interacting with the repository.\n",
    "  - Includes forums i.e. \"Issues\" (and \"Disucssion\") sections.\n",
    "  - Enhances the Git experience with pull requests, continuous integration, and more. \n",
    "  \n",
    "\n",
    "Example repository: https://github.com/ReinderVosDeWael/NEUR608-testrun  "
   ]
  },
  {
   "cell_type": "markdown",
   "id": "92d805ea",
   "metadata": {
    "slideshow": {
     "slide_type": "slide"
    }
   },
   "source": [
    "## Basic Github Repository\n",
    "\n",
    "```\n",
    "repository\n",
    "|   README.rst\n",
    "|   LICENSE\n",
    "|   .gitignore\n",
    "```"
   ]
  },
  {
   "cell_type": "markdown",
   "id": "c6c83db8",
   "metadata": {
    "slideshow": {
     "slide_type": "subslide"
    }
   },
   "source": [
    "## Basic Python Repository\n",
    "```\n",
    "repository\n",
    "│   README.rst\n",
    "|   LICENSE\n",
    "|   .gitignore\n",
    "|   requirements.txt\n",
    "|   setup.cfg\n",
    "|   setup.py\n",
    "└─── my_awesome_toolbox\n",
    "│   │   base.py\n",
    "|   |   __init__.py\n",
    "```"
   ]
  },
  {
   "cell_type": "markdown",
   "id": "82b79270",
   "metadata": {
    "slideshow": {
     "slide_type": "slide"
    }
   },
   "source": [
    "## GitHub: Continuous Integration\n",
    "- Continuous integration lets you run code every time the GitHub repository is altered.\n",
    "- Common use-cases are:\n",
    "  - Run unit tests on every commit.\n",
    "  - Check code coverage.\n",
    "  - Check code styling (linting).\n",
    "  - Automatic deployment of packages"
   ]
  },
  {
   "cell_type": "markdown",
   "id": "663f62b3",
   "metadata": {
    "slideshow": {
     "slide_type": "slide"
    }
   },
   "source": [
    "## Unit Testing with GitHub Actions\n",
    "```\n",
    "my_awesome_toolbox\n",
    "│   README.rst\n",
    "└─── my_package\n",
    "│   │   base.py\n",
    "│   │   __init__.py\n",
    "│   └─── tests\n",
    "│       │   test_fibonnaci_primes.py\n",
    "\n",
    "```\n"
   ]
  },
  {
   "cell_type": "code",
   "execution_count": 8,
   "id": "3f90cb57",
   "metadata": {
    "slideshow": {
     "slide_type": "fragment"
    }
   },
   "outputs": [],
   "source": [
    "# test_fibonnaci_primes.py\n",
    "def test_compute_fibonacci_prime_srp():\n",
    "    fibonnaci_prime = compute_fibonacci_prime_srp(25)\n",
    "    assert fibonnaci_prime == [1, 2, 3, 5, 13]\n",
    "\n",
    "\n",
    "def test_compute_fibonnaci():\n",
    "    fibonnaci = compute_fibonacci(25)\n",
    "    assert fibonnaci == [0, 1, 1, 2, 3, 5, 8, 13, 21]\n",
    "\n",
    "\n",
    "def test_compute_primes():\n",
    "    primes = compute_primes(25)\n",
    "    assert primes == [1, 2, 3, 5, 7, 11, 13, 17, 19, 23]"
   ]
  },
  {
   "cell_type": "markdown",
   "id": "43ba1166",
   "metadata": {
    "slideshow": {
     "slide_type": "slide"
    }
   },
   "source": [
    "So lets run these tests. "
   ]
  },
  {
   "cell_type": "code",
   "execution_count": 9,
   "id": "4cfd7d11",
   "metadata": {
    "slideshow": {
     "slide_type": "fragment"
    }
   },
   "outputs": [
    {
     "name": "stdout",
     "output_type": "stream",
     "text": [
      "======================================================================== test session starts ========================================================================\n",
      "platform darwin -- Python 3.8.10, pytest-6.2.4, py-1.10.0, pluggy-0.13.1\n",
      "rootdir: /Users/reinder/GitHub/NEUR608-testrun\n",
      "plugins: anyio-2.2.0\n",
      "collected 3 items\n",
      "\n",
      "../../../../GitHub/NEUR608-testrun/my_awesome_toolbox/tests/test_fibonnaci_prime.py ...                                                                       [100%]\n",
      "\n",
      "========================================================================= 3 passed in 0.04s =========================================================================\n"
     ]
    }
   ],
   "source": [
    "import pytest\n",
    "\n",
    "exit_code = pytest.main([\"/Users/reinder/GitHub/NEUR608-testrun/my_awesome_toolbox\"])"
   ]
  },
  {
   "cell_type": "markdown",
   "id": "c39b03aa",
   "metadata": {
    "slideshow": {
     "slide_type": "subslide"
    }
   },
   "source": [
    "<center><img src=\"images/automation.png\" alt=\"W3Schools.com\" width=1000px></center>"
   ]
  },
  {
   "cell_type": "markdown",
   "id": "2fd1ee70",
   "metadata": {
    "slideshow": {
     "slide_type": "slide"
    }
   },
   "source": [
    "Lets tell GitHub to run our tests whenever code is modified. For this, we add a YAML file."
   ]
  },
  {
   "cell_type": "markdown",
   "id": "119f4892",
   "metadata": {},
   "source": [
    "```\n",
    "my_awesome_toolbox\n",
    "│   README.rst\n",
    "└─── my_package\n",
    "│   │   base.py\n",
    "│   │   __init__.py\n",
    "│   └─── tests\n",
    "│       │   test_compute_primes.py\n",
    "│   └─── .github\n",
    "|       └─── workflows\n",
    "│               unittests.yml\n",
    "```"
   ]
  },
  {
   "cell_type": "markdown",
   "id": "ca27cbb7",
   "metadata": {
    "slideshow": {
     "slide_type": "subslide"
    }
   },
   "source": [
    "<img src=\"images/yml.png\" width=600px>"
   ]
  },
  {
   "cell_type": "markdown",
   "id": "ccfdc83c",
   "metadata": {
    "slideshow": {
     "slide_type": "subslide"
    }
   },
   "source": [
    "<img src=\"images/ci.png\" alt=\"W3Schools.com\" width=1000px>"
   ]
  },
  {
   "cell_type": "markdown",
   "id": "827f5769",
   "metadata": {
    "slideshow": {
     "slide_type": "slide"
    }
   },
   "source": [
    "<center> Coffee Time! </center>"
   ]
  },
  {
   "cell_type": "markdown",
   "id": "02cf90ff",
   "metadata": {
    "slideshow": {
     "slide_type": "slide"
    }
   },
   "source": [
    "Lets now build our documentation. A good documentation will consist of at least the following:\n",
    "\n",
    "- A front page.\n",
    "- A tutorial or two.\n",
    "- An API.\n",
    "\n",
    "We will use Sphinx to do this (`conda install sphinx`)."
   ]
  },
  {
   "cell_type": "markdown",
   "id": "4bb1661c",
   "metadata": {
    "slideshow": {
     "slide_type": "fragment"
    }
   },
   "source": [
    "First lets write our README.rst file."
   ]
  },
  {
   "cell_type": "markdown",
   "id": "73995765",
   "metadata": {
    "slideshow": {
     "slide_type": "slide"
    }
   },
   "source": [
    "Next, lets use the Sphinx quickstart to build a basic documentation webpage.\n",
    "\n",
    "- In your terminal type `sphinx-quickstart` and go through the quick setup.\n",
    "- We can build our webpage with `make html`, this must be run while in the `docs` directory.\n",
    "- We can open our webpage with `open _build/html/index.html`."
   ]
  },
  {
   "cell_type": "markdown",
   "id": "a6a2c6aa",
   "metadata": {
    "slideshow": {
     "slide_type": "slide"
    }
   },
   "source": [
    "Well that looks bad. Lets work on that.\n",
    "\n",
    "- First lets put our README on the front page. To do this remove all contents from `docs/index.rst` and replace them with `.. include:: ../README.rst`.\n",
    "- Next lets make the layout a bit nicer. Go into `docs/conf.py` and change `html_theme=\"alabaster\"` to `html_theme=\"sphinx_rtd_theme`."
   ]
  },
  {
   "cell_type": "markdown",
   "id": "a4c9452b",
   "metadata": {
    "slideshow": {
     "slide_type": "slide"
    }
   },
   "source": [
    "Next we're going to add an API. If you document your code well, then this can all be done automatically. \n",
    "\n",
    "- First, lets add a docstring to our functions in `numpy` format. "
   ]
  },
  {
   "cell_type": "markdown",
   "id": "fa7643dc",
   "metadata": {
    "slideshow": {
     "slide_type": "fragment"
    }
   },
   "source": [
    "- Next, inside `docs/index.rst` we add the following to add new pages to the index on the left-hand side:\n",
    "```\n",
    ".. toctree::\n",
    "    :maxdepth: 1\n",
    "    :caption: Table of Contents:\n",
    "    :hidden:\n",
    "\n",
    "    my_api\n",
    "```"
   ]
  },
  {
   "cell_type": "markdown",
   "id": "5b5eff37",
   "metadata": {
    "slideshow": {
     "slide_type": "fragment"
    }
   },
   "source": [
    "- Now we just have to enable automatic documentation. First we create `my_api.rst` and add the following to it:\n",
    "\n",
    "```\n",
    "API\n",
    "---\n",
    "\n",
    ".. automodule:: my_awesome_toolbox.base\n",
    "    :members:\n",
    "```"
   ]
  },
  {
   "cell_type": "markdown",
   "id": "3ac77475",
   "metadata": {
    "slideshow": {
     "slide_type": "subslide"
    }
   },
   "source": [
    "- And we add the following to `conf.py` so it can find our package and use the autodocumentation packages.\n",
    "\n",
    "```\n",
    "import os\n",
    "import sys\n",
    "\n",
    "sys.path.insert(0, os.path.abspath(\"..\"))\n",
    "\n",
    "extensions = [\n",
    "    \"sphinx.ext.autodoc\",  # Automatic documentation\n",
    "    \"sphinx.ext.napoleon\",  # Parses docstrings\n",
    "]\n",
    "```\n"
   ]
  },
  {
   "cell_type": "markdown",
   "id": "f69de37d",
   "metadata": {
    "slideshow": {
     "slide_type": "slide"
    }
   },
   "source": [
    "## Additional pages:\n",
    "\n",
    "- Generate tutorials from Python files\n",
    "- A theoretical tutorial\n",
    "- A references page\n",
    "- Whatever else you want!"
   ]
  },
  {
   "cell_type": "markdown",
   "id": "890f1f66",
   "metadata": {
    "slideshow": {
     "slide_type": "slide"
    }
   },
   "source": [
    "## Time to upload our package!\n",
    "\n",
    "- Make an account on (Test-)PyPi (https://test.pypi.org/).\n",
    "- Make sure your setup.py is set up properly.\n",
    "- Install twine (`pip install twine`).\n",
    "- Create a distribution (`python setup.py sdist`).\n",
    "- Upload the distribution `twine upload --repository-url https://test.pypi.org/legacy/ dist/*`."
   ]
  },
  {
   "cell_type": "markdown",
   "id": "eeb4988b",
   "metadata": {
    "slideshow": {
     "slide_type": "slide"
    }
   },
   "source": [
    "<center> Lets look at that BrainSpace repository again. </center> "
   ]
  },
  {
   "cell_type": "markdown",
   "id": "9cb0dc8c",
   "metadata": {
    "slideshow": {
     "slide_type": "slide"
    }
   },
   "source": [
    "<center> Questions? </center>"
   ]
  }
 ],
 "metadata": {
  "celltoolbar": "Slideshow",
  "kernelspec": {
   "display_name": "Python 3",
   "language": "python",
   "name": "python3"
  },
  "language_info": {
   "codemirror_mode": {
    "name": "ipython",
    "version": 3
   },
   "file_extension": ".py",
   "mimetype": "text/x-python",
   "name": "python",
   "nbconvert_exporter": "python",
   "pygments_lexer": "ipython3",
   "version": "3.8.10"
  }
 },
 "nbformat": 4,
 "nbformat_minor": 5
}
